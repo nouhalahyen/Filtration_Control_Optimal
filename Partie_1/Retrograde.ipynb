{
 "cells": [
  {
   "cell_type": "markdown",
   "metadata": {},
   "source": [
    "# Packages"
   ]
  },
  {
   "cell_type": "code",
   "execution_count": 1,
   "metadata": {},
   "outputs": [
    {
     "name": "stderr",
     "output_type": "stream",
     "text": [
      "\u001b[32m\u001b[1m    Updating\u001b[22m\u001b[39m registry at `~/.julia/registries/ct-registry`\n",
      "\u001b[32m\u001b[1m    Updating\u001b[22m\u001b[39m git-repo `https://github.com/control-toolbox/ct-registry.git`\n",
      "\u001b[32m\u001b[1m    Updating\u001b[22m\u001b[39m registry at `~/.julia/registries/General.toml`\n",
      "\u001b[32m\u001b[1m   Resolving\u001b[22m\u001b[39m package versions...\n",
      "\u001b[32m\u001b[1m  No Changes\u001b[22m\u001b[39m to `~/.julia/environments/v1.10/Project.toml`\n",
      "\u001b[32m\u001b[1m  No Changes\u001b[22m\u001b[39m to `~/.julia/environments/v1.10/Manifest.toml`\n"
     ]
    },
    {
     "data": {
      "text/plain": [
       "plt_traj_rev! (generic function with 2 methods)"
      ]
     },
     "metadata": {},
     "output_type": "display_data"
    }
   ],
   "source": [
    "import Pkg;\n",
    "Pkg.add(\"LSODA\")\n",
    "using LSODA\n",
    "using DifferentialEquations\n",
    "using Plots\n",
    "include(\"Fonctions.jl\");"
   ]
  },
  {
   "cell_type": "markdown",
   "metadata": {},
   "source": [
    "# Intégration par méthode rétrograde avec Call back: "
   ]
  },
  {
   "cell_type": "markdown",
   "metadata": {},
   "source": [
    "## Constantes et varaibles de stockage du système"
   ]
  },
  {
   "cell_type": "code",
   "execution_count": 3,
   "metadata": {},
   "outputs": [
    {
     "data": {
      "text/plain": [
       "Any[]"
      ]
     },
     "metadata": {},
     "output_type": "display_data"
    }
   ],
   "source": [
    "\n",
    "a = 1.0\n",
    "b = 1.0\n",
    "e = 1.0\n",
    "t0 = 0.0\n",
    "tf = 40.0\n",
    "# Conditions initiales et intervalle de temps\n",
    "pf = 0.0  # État initial pour p\n",
    "tspan = (tf, t0)\n",
    "final_masses = range(0.1, stop=20.0, length=75)  # Plage de valeurs pour mf\n",
    "temps = []\n",
    "masse = []\n",
    "adjoint = []\n"
   ]
  },
  {
   "cell_type": "markdown",
   "metadata": {},
   "source": [
    "## Pour le contour (pas encore automatisé)"
   ]
  },
  {
   "cell_type": "code",
   "execution_count": 4,
   "metadata": {},
   "outputs": [
    {
     "data": {
      "text/plain": [
       "2-element Vector{Float64}:\n",
       " 3.1\n",
       " 3.1"
      ]
     },
     "metadata": {},
     "output_type": "display_data"
    }
   ],
   "source": [
    "m_contour = [3.1, 3.1]\n",
    "t_contour = [0.0,17.0]\n",
    "\n",
    "red_m_contour = [0.0,20.0,20.0,0.1,0.0]\n",
    "red_t_contour = [0.0,0.0,40.0,40.0,0.0]\n",
    "green_t_line = [0.0, 17.0]\n",
    "green_m_line = [3.1 , 3.1]\n"
   ]
  },
  {
   "cell_type": "markdown",
   "metadata": {},
   "source": [
    "## Tracer les Plots"
   ]
  },
  {
   "cell_type": "code",
   "execution_count": null,
   "metadata": {},
   "outputs": [],
   "source": [
    "\n",
    "plt1 = plot()\n",
    "plt2 = plot()\n",
    "#Rouge du debut\n",
    "plot!(plt1, red_t_contour, red_m_contour, seriestype=:shape, fillrange=:auto, fillcolor=:red, alpha=0.8, label=\"\", linealpha=0)\n",
    "plt_traj_rev!(plt1, plt2, final_masses)\n",
    "append!(m_contour, masse)\n",
    "append!(t_contour, temps)\n",
    "append!(m_contour, 3.1)\n",
    "append!(t_contour, 0.0)\n",
    "plot!(plt1, t_contour, m_contour, seriestype=:shape, fillrange=:auto, fillcolor=:blue, alpha=0.8, label=\"\", linealpha=0)\n",
    "#plot!(plt1 , green_t_line , green_m_line, seriestype=:line, fillrange=:auto, fillcolor=:green, alpha=0.8, label=\"\", linealpha=0) \n"
   ]
  },
  {
   "cell_type": "markdown",
   "metadata": {},
   "source": [
    "## Afficher les graphiques finaux"
   ]
  },
  {
   "cell_type": "code",
   "execution_count": null,
   "metadata": {},
   "outputs": [],
   "source": [
    "display(plt1)\n",
    "display(plt2)"
   ]
  }
 ],
 "metadata": {
  "kernelspec": {
   "display_name": "Julia 1.10.3",
   "language": "julia",
   "name": "julia-1.10"
  },
  "language_info": {
   "file_extension": ".jl",
   "mimetype": "application/julia",
   "name": "julia",
   "version": "1.10.3"
  }
 },
 "nbformat": 4,
 "nbformat_minor": 2
}
