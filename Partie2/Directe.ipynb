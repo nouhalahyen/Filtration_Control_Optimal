{
 "cells": [
  {
   "cell_type": "code",
   "execution_count": 3,
   "metadata": {},
   "outputs": [
    {
     "name": "stderr",
     "output_type": "stream",
     "text": [
      "\u001b[32m\u001b[1m   Resolving\u001b[22m\u001b[39m package versions...\n",
      "\u001b[32m\u001b[1m  No Changes\u001b[22m\u001b[39m to `~/.julia/environments/v1.10/Project.toml`\n",
      "\u001b[32m\u001b[1m  No Changes\u001b[22m\u001b[39m to `~/.julia/environments/v1.10/Manifest.toml`\n"
     ]
    }
   ],
   "source": [
    "import Pkg;\n",
    "\n",
    "Pkg.add(\"OptimalControl\")\n",
    "using OptimalControl"
   ]
  },
  {
   "cell_type": "code",
   "execution_count": 2,
   "metadata": {},
   "outputs": [
    {
     "ename": "CTBase.ExtensionError",
     "evalue": "ExtensionError. Please make: julia> using NLPModelsIpopt",
     "output_type": "error",
     "traceback": [
      "ExtensionError. Please make: julia> using NLPModelsIpopt\n",
      "\n",
      "Stacktrace:\n",
      " [1] solve_docp(::CTDirect.IpoptTag, ::CTDirect.DOCP, ::Vararg{Any}; kwargs::@Kwargs{})\n",
      "   @ CTDirect ~/.julia/packages/CTDirect/dvmZi/src/solve.jl:103\n",
      " [2] solve_docp(::CTDirect.IpoptTag, ::CTDirect.DOCP, ::Vararg{Any})\n",
      "   @ CTDirect ~/.julia/packages/CTDirect/dvmZi/src/solve.jl:101\n",
      " [3] direct_solve(::OptimalControlModel{Autonomous, Fixed}; init::Nothing, grid_size::Int64, time_grid::Nothing, kwargs::@Kwargs{})\n",
      "   @ CTDirect ~/.julia/packages/CTDirect/dvmZi/src/solve.jl:88\n",
      " [4] direct_solve(::OptimalControlModel{Autonomous, Fixed})\n",
      "   @ CTDirect ~/.julia/packages/CTDirect/dvmZi/src/solve.jl:68\n",
      " [5] solve(::OptimalControlModel{Autonomous, Fixed}; kwargs::@Kwargs{})\n",
      "   @ OptimalControl ~/.julia/packages/OptimalControl/GlQyc/src/solve.jl:64\n",
      " [6] solve(::OptimalControlModel{Autonomous, Fixed})\n",
      "   @ OptimalControl ~/.julia/packages/OptimalControl/GlQyc/src/solve.jl:55\n",
      " [7] top-level scope\n",
      "   @ ~/Bureau/Projet_simple/Partie_2/jl_notebook_cell_df34fa98e69747e1a8f8a730347b8e2f_W1sZmlsZQ==.jl:58"
     ]
    }
   ],
   "source": [
    "\n",
    "t0 = 0      \n",
    "tf = 40.0\n",
    "alpha = 2\n",
    "σ1 = 1\n",
    "σ2 = 3\n",
    "δ1 = 1\n",
    "δ2 = 10\n",
    "beta = 3\n",
    "A0 = 10.0\n",
    "# Dynamics\n",
    "const b = 1\n",
    "const e = 1\n",
    "const a1 = 1\n",
    "const a2 = 3\n",
    "\n",
    "F11(x1,x2) = begin\n",
    "    return  (δ1/(1+alpha * A(x1,x2)))\n",
    "end\n",
    "F21(x1,x2) = begin  \n",
    "    return  (δ2/(1+ A(x1,x2)))\n",
    "end\n",
    "F12(x) = begin\n",
    "    return  (a1*x) \n",
    "end;\n",
    "F22(x) = begin\n",
    "    return  (a2*x) \n",
    "end;\n",
    "G(x1,x2) = begin \n",
    "    return (1/(1+x1+ beta*x2))\n",
    "end;\n",
    "#Aire de la membrane libre\n",
    "A(x1,x2) = begin \n",
    "    return A0/(1 + x1/σ1 +x2/σ2)\n",
    "end;\n",
    "x0 = [0.0,0.0]\n",
    "Problem(x0) = begin \n",
    "    @def ocp begin # definition of the optimal control problem\n",
    "\n",
    "        t ∈ [ t0, tf ], time\n",
    "        x ∈ R², state\n",
    "        u ∈ R, control\n",
    "        m1 = x₁\n",
    "        m2 = x₂\n",
    " \n",
    "        x(t0) == x0\n",
    "        -m1(t) ≤ 0.0\n",
    "        -m2(t) ≤ 0.0\n",
    "        -1.0 ≤ u(t) ≤ 1.0\n",
    "        \n",
    "        ẋ(t) == [ (1+u(t))/2 * F11(m1(t),m2(t)) - (1 - u(t))/2 * F12(m1(t)) , (1+u(t))/2 * F21(m1(t),m2(t)) - (1 - u(t))/2 * F22(m2(t)) ]\n",
    "        \n",
    "        ∫(u(t)*G(m1(t),m2(t)))  → max\n",
    "\n",
    "    end;\n",
    "end;\n",
    "Problem(x0)\n",
    "sol = solve(Problem(x0))\n",
    "plot(sol, size=(600, 450))"
   ]
  }
 ],
 "metadata": {
  "kernelspec": {
   "display_name": "Julia 1.10.4",
   "language": "julia",
   "name": "julia-1.10"
  },
  "language_info": {
   "file_extension": ".jl",
   "mimetype": "application/julia",
   "name": "julia",
   "version": "1.10.4"
  }
 },
 "nbformat": 4,
 "nbformat_minor": 2
}
